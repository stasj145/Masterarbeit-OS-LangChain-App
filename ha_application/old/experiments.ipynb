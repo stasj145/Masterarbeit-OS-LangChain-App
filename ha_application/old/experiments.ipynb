{
 "cells": [
  {
   "cell_type": "code",
   "execution_count": 27,
   "metadata": {},
   "outputs": [
    {
     "name": "stdout",
     "output_type": "stream",
     "text": [
      "Requirement already satisfied: langchain in c:\\users\\jonas\\appdata\\roaming\\python\\python39\\site-packages (0.0.277)\n",
      "Requirement already satisfied: text-generation in c:\\users\\jonas\\appdata\\roaming\\python\\python39\\site-packages (0.6.0)\n",
      "Requirement already satisfied: transformers in c:\\users\\jonas\\appdata\\roaming\\python\\python39\\site-packages (4.32.1)\n",
      "Requirement already satisfied: runpod in c:\\users\\jonas\\appdata\\roaming\\python\\python39\\site-packages (0.9.12)\n",
      "Requirement already satisfied: python-dotenv in c:\\users\\jonas\\appdata\\roaming\\python\\python39\\site-packages (1.0.0)\n",
      "Requirement already satisfied: ipython in c:\\users\\jonas\\.conda\\envs\\masterarbeit\\lib\\site-packages (8.12.2)\n",
      "Requirement already satisfied: chromadb in c:\\users\\jonas\\.conda\\envs\\masterarbeit\\lib\\site-packages (0.4.8)\n",
      "Requirement already satisfied: torch in c:\\users\\jonas\\.conda\\envs\\masterarbeit\\lib\\site-packages (2.0.1)\n",
      "Collecting einops\n",
      "  Downloading einops-0.6.1-py3-none-any.whl (42 kB)\n",
      "     ---------------------------------------- 0.0/42.2 kB ? eta -:--:--\n",
      "     --------- ------------------------------ 10.2/42.2 kB ? eta -:--:--\n",
      "     ------------------------------------ - 41.0/42.2 kB 393.8 kB/s eta 0:00:01\n",
      "     -------------------------------------- 42.2/42.2 kB 410.2 kB/s eta 0:00:00\n",
      "Requirement already satisfied: PyYAML>=5.3 in c:\\users\\jonas\\.conda\\envs\\masterarbeit\\lib\\site-packages (from langchain) (6.0.1)\n",
      "Requirement already satisfied: SQLAlchemy<3,>=1.4 in c:\\users\\jonas\\.conda\\envs\\masterarbeit\\lib\\site-packages (from langchain) (2.0.20)\n",
      "Requirement already satisfied: aiohttp<4.0.0,>=3.8.3 in c:\\users\\jonas\\appdata\\roaming\\python\\python39\\site-packages (from langchain) (3.8.5)\n",
      "Requirement already satisfied: async-timeout<5.0.0,>=4.0.0 in c:\\users\\jonas\\appdata\\roaming\\python\\python39\\site-packages (from langchain) (4.0.3)\n",
      "Requirement already satisfied: dataclasses-json<0.6.0,>=0.5.7 in c:\\users\\jonas\\appdata\\roaming\\python\\python39\\site-packages (from langchain) (0.5.14)\n",
      "Requirement already satisfied: langsmith<0.1.0,>=0.0.21 in c:\\users\\jonas\\appdata\\roaming\\python\\python39\\site-packages (from langchain) (0.0.29)\n",
      "Requirement already satisfied: numexpr<3.0.0,>=2.8.4 in c:\\users\\jonas\\appdata\\roaming\\python\\python39\\site-packages (from langchain) (2.8.5)\n",
      "Requirement already satisfied: numpy<2,>=1 in c:\\users\\jonas\\.conda\\envs\\masterarbeit\\lib\\site-packages (from langchain) (1.25.2)\n",
      "Requirement already satisfied: pydantic<3,>=1 in c:\\users\\jonas\\appdata\\roaming\\python\\python39\\site-packages (from langchain) (1.10.12)\n",
      "Requirement already satisfied: requests<3,>=2 in c:\\users\\jonas\\appdata\\roaming\\python\\python39\\site-packages (from langchain) (2.31.0)\n",
      "Requirement already satisfied: tenacity<9.0.0,>=8.1.0 in c:\\users\\jonas\\appdata\\roaming\\python\\python39\\site-packages (from langchain) (8.2.3)\n",
      "Requirement already satisfied: huggingface-hub<1.0,>=0.12 in c:\\users\\jonas\\appdata\\roaming\\python\\python39\\site-packages (from text-generation) (0.16.4)\n",
      "Requirement already satisfied: filelock in c:\\users\\jonas\\.conda\\envs\\masterarbeit\\lib\\site-packages (from transformers) (3.12.3)\n",
      "Requirement already satisfied: packaging>=20.0 in c:\\users\\jonas\\.conda\\envs\\masterarbeit\\lib\\site-packages (from transformers) (23.0)\n",
      "Requirement already satisfied: regex!=2019.12.17 in c:\\users\\jonas\\.conda\\envs\\masterarbeit\\lib\\site-packages (from transformers) (2023.8.8)\n",
      "Requirement already satisfied: tokenizers!=0.11.3,<0.14,>=0.11.1 in c:\\users\\jonas\\appdata\\roaming\\python\\python39\\site-packages (from transformers) (0.13.3)\n",
      "Requirement already satisfied: safetensors>=0.3.1 in c:\\users\\jonas\\appdata\\roaming\\python\\python39\\site-packages (from transformers) (0.3.3)\n",
      "Requirement already satisfied: tqdm>=4.27 in c:\\users\\jonas\\.conda\\envs\\masterarbeit\\lib\\site-packages (from transformers) (4.66.1)\n",
      "Requirement already satisfied: backoff>=2.2.1 in c:\\users\\jonas\\appdata\\roaming\\python\\python39\\site-packages (from runpod) (2.2.1)\n",
      "Requirement already satisfied: boto3>=1.26.142 in c:\\users\\jonas\\appdata\\roaming\\python\\python39\\site-packages (from runpod) (1.28.37)\n",
      "Requirement already satisfied: pillow>=9.3.0 in c:\\users\\jonas\\appdata\\roaming\\python\\python39\\site-packages (from runpod) (10.0.0)\n",
      "Requirement already satisfied: py-cpuinfo>=9.0.0 in c:\\users\\jonas\\appdata\\roaming\\python\\python39\\site-packages (from runpod) (9.0.0)\n",
      "Requirement already satisfied: tqdm-loggable>=0.1.3 in c:\\users\\jonas\\appdata\\roaming\\python\\python39\\site-packages (from runpod) (0.1.4)\n",
      "Requirement already satisfied: fastapi[all]>=0.95.2 in c:\\users\\jonas\\appdata\\roaming\\python\\python39\\site-packages (from runpod) (0.99.1)\n",
      "Requirement already satisfied: backcall in c:\\users\\jonas\\.conda\\envs\\masterarbeit\\lib\\site-packages (from ipython) (0.2.0)\n",
      "Requirement already satisfied: decorator in c:\\users\\jonas\\.conda\\envs\\masterarbeit\\lib\\site-packages (from ipython) (5.1.1)\n",
      "Requirement already satisfied: jedi>=0.16 in c:\\users\\jonas\\.conda\\envs\\masterarbeit\\lib\\site-packages (from ipython) (0.18.1)\n",
      "Requirement already satisfied: matplotlib-inline in c:\\users\\jonas\\.conda\\envs\\masterarbeit\\lib\\site-packages (from ipython) (0.1.6)\n",
      "Requirement already satisfied: pickleshare in c:\\users\\jonas\\.conda\\envs\\masterarbeit\\lib\\site-packages (from ipython) (0.7.5)\n",
      "Requirement already satisfied: prompt-toolkit!=3.0.37,<3.1.0,>=3.0.30 in c:\\users\\jonas\\.conda\\envs\\masterarbeit\\lib\\site-packages (from ipython) (3.0.36)\n",
      "Requirement already satisfied: pygments>=2.4.0 in c:\\users\\jonas\\.conda\\envs\\masterarbeit\\lib\\site-packages (from ipython) (2.15.1)\n",
      "Requirement already satisfied: stack-data in c:\\users\\jonas\\.conda\\envs\\masterarbeit\\lib\\site-packages (from ipython) (0.2.0)\n",
      "Requirement already satisfied: traitlets>=5 in c:\\users\\jonas\\.conda\\envs\\masterarbeit\\lib\\site-packages (from ipython) (5.7.1)\n",
      "Requirement already satisfied: typing-extensions in c:\\users\\jonas\\appdata\\roaming\\python\\python39\\site-packages (from ipython) (4.7.1)\n",
      "Requirement already satisfied: colorama in c:\\users\\jonas\\.conda\\envs\\masterarbeit\\lib\\site-packages (from ipython) (0.4.6)\n",
      "Requirement already satisfied: chroma-hnswlib==0.7.2 in c:\\users\\jonas\\.conda\\envs\\masterarbeit\\lib\\site-packages (from chromadb) (0.7.2)\n",
      "Requirement already satisfied: uvicorn[standard]>=0.18.3 in c:\\users\\jonas\\appdata\\roaming\\python\\python39\\site-packages (from chromadb) (0.23.2)\n",
      "Requirement already satisfied: posthog>=2.4.0 in c:\\users\\jonas\\.conda\\envs\\masterarbeit\\lib\\site-packages (from chromadb) (3.0.2)\n",
      "Requirement already satisfied: pulsar-client>=3.1.0 in c:\\users\\jonas\\.conda\\envs\\masterarbeit\\lib\\site-packages (from chromadb) (3.3.0)\n",
      "Requirement already satisfied: onnxruntime>=1.14.1 in c:\\users\\jonas\\.conda\\envs\\masterarbeit\\lib\\site-packages (from chromadb) (1.15.1)\n",
      "Requirement already satisfied: pypika>=0.48.9 in c:\\users\\jonas\\.conda\\envs\\masterarbeit\\lib\\site-packages (from chromadb) (0.48.9)\n",
      "Requirement already satisfied: overrides>=7.3.1 in c:\\users\\jonas\\.conda\\envs\\masterarbeit\\lib\\site-packages (from chromadb) (7.4.0)\n",
      "Requirement already satisfied: importlib-resources in c:\\users\\jonas\\.conda\\envs\\masterarbeit\\lib\\site-packages (from chromadb) (6.0.1)\n",
      "Requirement already satisfied: bcrypt>=4.0.1 in c:\\users\\jonas\\.conda\\envs\\masterarbeit\\lib\\site-packages (from chromadb) (4.0.1)\n",
      "Requirement already satisfied: sympy in c:\\users\\jonas\\.conda\\envs\\masterarbeit\\lib\\site-packages (from torch) (1.12)\n",
      "Requirement already satisfied: networkx in c:\\users\\jonas\\.conda\\envs\\masterarbeit\\lib\\site-packages (from torch) (3.1)\n",
      "Requirement already satisfied: jinja2 in c:\\users\\jonas\\.conda\\envs\\masterarbeit\\lib\\site-packages (from torch) (3.1.2)\n",
      "Requirement already satisfied: attrs>=17.3.0 in c:\\users\\jonas\\.conda\\envs\\masterarbeit\\lib\\site-packages (from aiohttp<4.0.0,>=3.8.3->langchain) (23.1.0)\n",
      "Requirement already satisfied: charset-normalizer<4.0,>=2.0 in c:\\users\\jonas\\.conda\\envs\\masterarbeit\\lib\\site-packages (from aiohttp<4.0.0,>=3.8.3->langchain) (3.2.0)\n",
      "Requirement already satisfied: multidict<7.0,>=4.5 in c:\\users\\jonas\\appdata\\roaming\\python\\python39\\site-packages (from aiohttp<4.0.0,>=3.8.3->langchain) (6.0.4)\n",
      "Requirement already satisfied: yarl<2.0,>=1.0 in c:\\users\\jonas\\appdata\\roaming\\python\\python39\\site-packages (from aiohttp<4.0.0,>=3.8.3->langchain) (1.9.2)\n",
      "Requirement already satisfied: frozenlist>=1.1.1 in c:\\users\\jonas\\appdata\\roaming\\python\\python39\\site-packages (from aiohttp<4.0.0,>=3.8.3->langchain) (1.4.0)\n",
      "Requirement already satisfied: aiosignal>=1.1.2 in c:\\users\\jonas\\appdata\\roaming\\python\\python39\\site-packages (from aiohttp<4.0.0,>=3.8.3->langchain) (1.3.1)\n",
      "Requirement already satisfied: botocore<1.32.0,>=1.31.37 in c:\\users\\jonas\\appdata\\roaming\\python\\python39\\site-packages (from boto3>=1.26.142->runpod) (1.31.37)\n",
      "Requirement already satisfied: jmespath<2.0.0,>=0.7.1 in c:\\users\\jonas\\.conda\\envs\\masterarbeit\\lib\\site-packages (from boto3>=1.26.142->runpod) (1.0.1)\n",
      "Requirement already satisfied: s3transfer<0.7.0,>=0.6.0 in c:\\users\\jonas\\.conda\\envs\\masterarbeit\\lib\\site-packages (from boto3>=1.26.142->runpod) (0.6.2)\n",
      "Requirement already satisfied: marshmallow<4.0.0,>=3.18.0 in c:\\users\\jonas\\appdata\\roaming\\python\\python39\\site-packages (from dataclasses-json<0.6.0,>=0.5.7->langchain) (3.20.1)\n",
      "Requirement already satisfied: typing-inspect<1,>=0.4.0 in c:\\users\\jonas\\appdata\\roaming\\python\\python39\\site-packages (from dataclasses-json<0.6.0,>=0.5.7->langchain) (0.9.0)\n",
      "Requirement already satisfied: starlette<0.28.0,>=0.27.0 in c:\\users\\jonas\\appdata\\roaming\\python\\python39\\site-packages (from fastapi[all]>=0.95.2->runpod) (0.27.0)\n",
      "Requirement already satisfied: email-validator>=1.1.1 in c:\\users\\jonas\\appdata\\roaming\\python\\python39\\site-packages (from fastapi[all]>=0.95.2->runpod) (2.0.0.post2)\n",
      "Requirement already satisfied: httpx>=0.23.0 in c:\\users\\jonas\\appdata\\roaming\\python\\python39\\site-packages (from fastapi[all]>=0.95.2->runpod) (0.24.1)\n",
      "Requirement already satisfied: itsdangerous>=1.1.0 in c:\\users\\jonas\\.conda\\envs\\masterarbeit\\lib\\site-packages (from fastapi[all]>=0.95.2->runpod) (2.1.2)\n",
      "Requirement already satisfied: orjson>=3.2.1 in c:\\users\\jonas\\appdata\\roaming\\python\\python39\\site-packages (from fastapi[all]>=0.95.2->runpod) (3.9.5)\n",
      "Requirement already satisfied: python-multipart>=0.0.5 in c:\\users\\jonas\\appdata\\roaming\\python\\python39\\site-packages (from fastapi[all]>=0.95.2->runpod) (0.0.6)\n",
      "Requirement already satisfied: ujson!=4.0.2,!=4.1.0,!=4.2.0,!=4.3.0,!=5.0.0,!=5.1.0,>=4.0.1 in c:\\users\\jonas\\.conda\\envs\\masterarbeit\\lib\\site-packages (from fastapi[all]>=0.95.2->runpod) (5.8.0)\n",
      "Requirement already satisfied: fsspec in c:\\users\\jonas\\.conda\\envs\\masterarbeit\\lib\\site-packages (from huggingface-hub<1.0,>=0.12->text-generation) (2023.6.0)\n",
      "Requirement already satisfied: parso<0.9.0,>=0.8.0 in c:\\users\\jonas\\.conda\\envs\\masterarbeit\\lib\\site-packages (from jedi>=0.16->ipython) (0.8.3)\n",
      "Requirement already satisfied: MarkupSafe>=2.0 in c:\\users\\jonas\\.conda\\envs\\masterarbeit\\lib\\site-packages (from jinja2->torch) (2.1.3)\n",
      "Requirement already satisfied: coloredlogs in c:\\users\\jonas\\.conda\\envs\\masterarbeit\\lib\\site-packages (from onnxruntime>=1.14.1->chromadb) (15.0.1)\n",
      "Requirement already satisfied: flatbuffers in c:\\users\\jonas\\.conda\\envs\\masterarbeit\\lib\\site-packages (from onnxruntime>=1.14.1->chromadb) (23.5.26)\n",
      "Requirement already satisfied: protobuf in c:\\users\\jonas\\.conda\\envs\\masterarbeit\\lib\\site-packages (from onnxruntime>=1.14.1->chromadb) (4.24.2)\n",
      "Requirement already satisfied: six>=1.5 in c:\\users\\jonas\\.conda\\envs\\masterarbeit\\lib\\site-packages (from posthog>=2.4.0->chromadb) (1.16.0)\n",
      "Requirement already satisfied: monotonic>=1.5 in c:\\users\\jonas\\.conda\\envs\\masterarbeit\\lib\\site-packages (from posthog>=2.4.0->chromadb) (1.6)\n",
      "Requirement already satisfied: python-dateutil>2.1 in c:\\users\\jonas\\.conda\\envs\\masterarbeit\\lib\\site-packages (from posthog>=2.4.0->chromadb) (2.8.2)\n",
      "Requirement already satisfied: wcwidth in c:\\users\\jonas\\.conda\\envs\\masterarbeit\\lib\\site-packages (from prompt-toolkit!=3.0.37,<3.1.0,>=3.0.30->ipython) (0.2.5)\n",
      "Requirement already satisfied: certifi in c:\\users\\jonas\\.conda\\envs\\masterarbeit\\lib\\site-packages (from pulsar-client>=3.1.0->chromadb) (2023.7.22)\n",
      "Requirement already satisfied: idna<4,>=2.5 in c:\\users\\jonas\\.conda\\envs\\masterarbeit\\lib\\site-packages (from requests<3,>=2->langchain) (3.4)\n",
      "Requirement already satisfied: urllib3<3,>=1.21.1 in c:\\users\\jonas\\.conda\\envs\\masterarbeit\\lib\\site-packages (from requests<3,>=2->langchain) (1.26.16)\n",
      "Requirement already satisfied: greenlet!=0.4.17 in c:\\users\\jonas\\.conda\\envs\\masterarbeit\\lib\\site-packages (from SQLAlchemy<3,>=1.4->langchain) (2.0.2)\n",
      "Requirement already satisfied: click>=7.0 in c:\\users\\jonas\\.conda\\envs\\masterarbeit\\lib\\site-packages (from uvicorn[standard]>=0.18.3->chromadb) (8.1.7)\n",
      "Requirement already satisfied: h11>=0.8 in c:\\users\\jonas\\appdata\\roaming\\python\\python39\\site-packages (from uvicorn[standard]>=0.18.3->chromadb) (0.14.0)\n",
      "Requirement already satisfied: httptools>=0.5.0 in c:\\users\\jonas\\appdata\\roaming\\python\\python39\\site-packages (from uvicorn[standard]>=0.18.3->chromadb) (0.6.0)\n",
      "Requirement already satisfied: watchfiles>=0.13 in c:\\users\\jonas\\appdata\\roaming\\python\\python39\\site-packages (from uvicorn[standard]>=0.18.3->chromadb) (0.20.0)\n",
      "Requirement already satisfied: websockets>=10.4 in c:\\users\\jonas\\appdata\\roaming\\python\\python39\\site-packages (from uvicorn[standard]>=0.18.3->chromadb) (11.0.3)\n",
      "Requirement already satisfied: zipp>=3.1.0 in c:\\users\\jonas\\.conda\\envs\\masterarbeit\\lib\\site-packages (from importlib-resources->chromadb) (3.11.0)\n",
      "Requirement already satisfied: executing in c:\\users\\jonas\\.conda\\envs\\masterarbeit\\lib\\site-packages (from stack-data->ipython) (0.8.3)\n",
      "Requirement already satisfied: asttokens in c:\\users\\jonas\\.conda\\envs\\masterarbeit\\lib\\site-packages (from stack-data->ipython) (2.0.5)\n",
      "Requirement already satisfied: pure-eval in c:\\users\\jonas\\.conda\\envs\\masterarbeit\\lib\\site-packages (from stack-data->ipython) (0.2.2)\n",
      "Requirement already satisfied: mpmath>=0.19 in c:\\users\\jonas\\.conda\\envs\\masterarbeit\\lib\\site-packages (from sympy->torch) (1.3.0)\n",
      "Requirement already satisfied: dnspython>=2.0.0 in c:\\users\\jonas\\appdata\\roaming\\python\\python39\\site-packages (from email-validator>=1.1.1->fastapi[all]>=0.95.2->runpod) (2.4.2)\n",
      "Requirement already satisfied: httpcore<0.18.0,>=0.15.0 in c:\\users\\jonas\\appdata\\roaming\\python\\python39\\site-packages (from httpx>=0.23.0->fastapi[all]>=0.95.2->runpod) (0.17.3)\n",
      "Requirement already satisfied: sniffio in c:\\users\\jonas\\.conda\\envs\\masterarbeit\\lib\\site-packages (from httpx>=0.23.0->fastapi[all]>=0.95.2->runpod) (1.3.0)\n",
      "Requirement already satisfied: anyio<5,>=3.4.0 in c:\\users\\jonas\\.conda\\envs\\masterarbeit\\lib\\site-packages (from starlette<0.28.0,>=0.27.0->fastapi[all]>=0.95.2->runpod) (3.7.1)\n",
      "Requirement already satisfied: mypy-extensions>=0.3.0 in c:\\users\\jonas\\.conda\\envs\\masterarbeit\\lib\\site-packages (from typing-inspect<1,>=0.4.0->dataclasses-json<0.6.0,>=0.5.7->langchain) (1.0.0)\n",
      "Requirement already satisfied: humanfriendly>=9.1 in c:\\users\\jonas\\.conda\\envs\\masterarbeit\\lib\\site-packages (from coloredlogs->onnxruntime>=1.14.1->chromadb) (10.0)\n",
      "Requirement already satisfied: exceptiongroup in c:\\users\\jonas\\.conda\\envs\\masterarbeit\\lib\\site-packages (from anyio<5,>=3.4.0->starlette<0.28.0,>=0.27.0->fastapi[all]>=0.95.2->runpod) (1.1.3)\n",
      "Requirement already satisfied: pyreadline3 in c:\\users\\jonas\\.conda\\envs\\masterarbeit\\lib\\site-packages (from humanfriendly>=9.1->coloredlogs->onnxruntime>=1.14.1->chromadb) (3.4.1)\n",
      "Installing collected packages: einops\n",
      "Successfully installed einops-0.6.1\n",
      "Note: you may need to restart the kernel to use updated packages.\n"
     ]
    }
   ],
   "source": [
    "%pip install langchain text-generation transformers runpod python-dotenv ipython chromadb torch einops"
   ]
  },
  {
   "cell_type": "code",
   "execution_count": 36,
   "metadata": {},
   "outputs": [],
   "source": [
    "DeviceAliasList = [ \"Livingroom.light\",\n",
    "\"Bedroom.light\",\n",
    "\"Bedroom.tv\",\n",
    "\"Kitchen.light\",\n",
    "\"Bathroom.light\",\n",
    "\"Study.light\",\n",
    "\"Garage.light\",\n",
    "\"Patio.light\",\n",
    "\"Dining.light\",\n",
    "\"Guestroom.light\",\n",
    "\"Master.light\",\n",
    "\"Basement.light\",\n",
    "\"Office.light\",\n",
    "\"Kidsroom.light\",\n",
    "\"Hallway.light\",\n",
    "\"Balcony.light\",\n",
    "\"Entryway.light\",\n",
    "\"Livingroom.table_light\",\n",
    "\"Entertainment.light\"]"
   ]
  },
  {
   "cell_type": "code",
   "execution_count": 4,
   "metadata": {},
   "outputs": [],
   "source": [
    "DeviceAliasList = [ \"Livingroom Lights: Livingroom.light\",\n",
    "\"Bedroom Lights: Bedroom.light\",\n",
    "\"TV: Bedroom.tv\",\n",
    "\"Kitchen Lights: Kitchen.light\",\n",
    "\"Bathroom Lights: Bathroom.light\",\n",
    "\"Study Lights: Study.light\",\n",
    "\"Garage Lights: Garage.light\",\n",
    "\"Patio Lights: Patio.light\",\n",
    "\"Dining Lights: Dining.light\",\n",
    "\"Guestroom Lights: Guestroom.light\",\n",
    "\"Master Lights: Master.light\",\n",
    "\"Basement Lights: Basement.light\",\n",
    "\"Office Lights: Office.light\",\n",
    "\"Kidsroom Lights: Kidsroom.light\",\n",
    "\"Hallway Lights: Hallway.light\",\n",
    "\"Balcony Lights: Balcony.light\",\n",
    "\"Entryway Lights: Entryway.light\",\n",
    "\"Entertainment Lights: Entertainment.light\"]"
   ]
  },
  {
   "cell_type": "code",
   "execution_count": 6,
   "metadata": {},
   "outputs": [],
   "source": [
    "import chromadb\n",
    "client = chromadb.Client()\n",
    "#client.delete_collection(\"devices\")\n",
    "\n",
    "collection = client.create_collection(\"devices\")\n",
    "\n",
    "collection.add(\n",
    "    documents=DeviceAliasList,\n",
    "    ids=[str(i) for i in range(0, len(DeviceAliasList))]\n",
    ")"
   ]
  },
  {
   "cell_type": "code",
   "execution_count": 7,
   "metadata": {},
   "outputs": [
    {
     "name": "stderr",
     "output_type": "stream",
     "text": [
      "c:\\Users\\jonas\\.conda\\envs\\Masterarbeit\\lib\\site-packages\\tqdm\\auto.py:21: TqdmWarning: IProgress not found. Please update jupyter and ipywidgets. See https://ipywidgets.readthedocs.io/en/stable/user_install.html\n",
      "  from .autonotebook import tqdm as notebook_tqdm\n"
     ]
    }
   ],
   "source": [
    "from langchain.llms import HuggingFaceTextGenInference\n",
    "\n",
    "inference_server_url = f'http://localhost:8080'\n",
    "llm = HuggingFaceTextGenInference(\n",
    "    inference_server_url=inference_server_url,\n",
    "    max_new_tokens=100,\n",
    "    top_k=10,\n",
    "    top_p=0.95,\n",
    "    typical_p=0.95,\n",
    "    temperature=0.1,\n",
    "    repetition_penalty=1.1,\n",
    ")"
   ]
  },
  {
   "cell_type": "code",
   "execution_count": 8,
   "metadata": {},
   "outputs": [],
   "source": [
    "from IPython.display import display, Markdown\n",
    "from langchain import PromptTemplate\n",
    "from langchain.chains import LLMChain"
   ]
  },
  {
   "attachments": {},
   "cell_type": "markdown",
   "metadata": {},
   "source": [
    "Large Promt:"
   ]
  },
  {
   "cell_type": "code",
   "execution_count": 29,
   "metadata": {},
   "outputs": [],
   "source": [
    "prompt = PromptTemplate(\n",
    "    input_variables=[\"User_request\"],\n",
    "    template=\"\"\"\n",
    "### Instruction:    \n",
    "Below you will find a \"USER REQUEST\" to a Smart Home System. The USER REQUEST need to be converted into the following Format: \"COMMAND: [device name]: [action]\". Replace \"device name\" with the alias from the list below. Also replace \"[action]\" with the fitting selection from the action list. You may also issue multiple commands if you nessesary.\n",
    "\n",
    "Device Alias list:\n",
    "Livingroom Lights: \"Livingroom.light\"\n",
    "Bedroom Lights: \"Bedroom.light\"\n",
    "TV: \"livingroom.tv\"\n",
    "Kitchen Lights: \"Kitchen.light\"\n",
    "Bathroom Lights: \"Bathroom.light\"\n",
    "Study Lights: \"Study.light\"\n",
    "Garage Lights: \"Garage.light\"\n",
    "Patio Lights: \"Patio.light\"\n",
    "Dining Lights: \"Dining.light\"\n",
    "Guestroom Lights: \"Guestroom.light\"\n",
    "Master Lights: \"Master.light\"\n",
    "Basement Lights: \"Basement.light\"\n",
    "Office Lights: \"Office.light\"\n",
    "Kidsroom Lights: \"Kidsroom.light\"\n",
    "Hallway Lights: \"Hallway.light\"\n",
    "Balcony Lights: \"Balcony.light\"\n",
    "Entryway Lights: \"Entryway.light\"\n",
    "Entertainment Lights: \"Entertainment.light\"\n",
    "\n",
    "Action list:\n",
    "on\n",
    "off\n",
    "dim x%\n",
    "color x\n",
    "\n",
    "USER REQUEST: set the lights in the office to 50%\n",
    "RESPONSE: COMMAND: Office.light: set 50%\n",
    "USER REQUEST: Turn on the light in the Hallway!\n",
    "RESPONSE: COMMAND: Hallway.light: on\n",
    "USER REQUEST: Turn on the light in the Bathroom and kitchen\n",
    "RESPONSE: COMMAND: Office.light: on \\n COMMAND: kitchen.light: on\n",
    "USER REQUEST: {User_request}\n",
    "### RESPONSE: \n",
    "\"\"\"\n",
    ")\n",
    "\n",
    "chain = LLMChain(llm=llm, prompt=prompt)"
   ]
  },
  {
   "attachments": {},
   "cell_type": "markdown",
   "metadata": {},
   "source": [
    "USER_REQUEST:"
   ]
  },
  {
   "cell_type": "code",
   "execution_count": 32,
   "metadata": {},
   "outputs": [],
   "source": [
    "User_request = \"Are the lights in the kitchen on?\"\n",
    "json_response_template_router = \"\"\"{{\"destination\": string, \"next_inputs\": string}}\"\"\"\n",
    "destination_options = \"\"\"Command: If the user is trying to change the state of a device.\\nInquiry: If the user is requesting information about a device\"\"\""
   ]
  },
  {
   "attachments": {},
   "cell_type": "markdown",
   "metadata": {},
   "source": [
    "Router:"
   ]
  },
  {
   "cell_type": "code",
   "execution_count": 10,
   "metadata": {},
   "outputs": [],
   "source": [
    "from langchain.chains.router import MultiPromptChain\n",
    "from langchain.chains import ConversationChain\n",
    "from langchain.chains.llm import LLMChain\n",
    "from langchain.prompts import PromptTemplate"
   ]
  },
  {
   "cell_type": "code",
   "execution_count": 54,
   "metadata": {},
   "outputs": [],
   "source": [
    "router_template = \"\"\"\n",
    "### Instruction:    \n",
    "Below are some \"USER REQUESTS\" and a \"RESPONSE\" from a Smart Home System. Respond in a JSON Markdown format as defined under \"JSON STRUCTURE\". Change the \"destination\" to one of the options provided under \"DESTINATION OPTIONS\". \n",
    "\n",
    "JSON STRUCTURE: {json_response_template}\n",
    "\n",
    "DESTINATION OPTIONS:\n",
    "{destination_options}\n",
    "\n",
    "USER REQUEST: \"set the lights in the office to 50%\"\n",
    "RESPONSE: RESPONSE: {{\"destination\": \"Command\", \"next_inputs\": \"set the lights in the office to 50%\"}}\n",
    "\n",
    "USER REQUEST: \"Is the light in the Kitchen on?\"\n",
    "RESPONSE: {{\"destination\": \"Inquiry\", \"next_inputs\": \"Is the light in the Kitchen on?\"}}\n",
    "\n",
    "USER REQUEST: \"Turn on the light in the livingroom!\"\n",
    "RESPONSE: {{\"destination\": \"Command\", \"next_inputs\": \"Turn on the light in the livingroom!\"}}\n",
    "\n",
    "USER REQUEST: \"{input}\"\n",
    "### RESPONSE:\n",
    "\"\"\"\n",
    "\n",
    "\n",
    "\n",
    "commandMocPrompt = \"\"\"Tell me the name of an Animal: \"\"\"\n",
    "\n",
    "inquiryMocPrompt = \"\"\"1, 2, 3, 4, 5, 6, 7, 8, \"\"\"\n",
    "\n",
    "prompt_infos = [\n",
    "    {\n",
    "        \"name\": \"Command\",\n",
    "        \"description\": \"Used if the user wants to change the state of a device\",\n",
    "        \"prompt_template\": commandMocPrompt,\n",
    "    },\n",
    "    {\n",
    "        \"name\": \"Inquiry\",\n",
    "        \"description\": \"Used if the user wants to know information about the device.\",\n",
    "        \"prompt_template\": inquiryMocPrompt,\n",
    "    },\n",
    "]\n",
    "\n",
    "destination_chains = {}\n",
    "for info in prompt_infos:\n",
    "    name = info[\"name\"]\n",
    "    prompt_template = info[\"prompt_template\"]\n",
    "    prompt = PromptTemplate(template=prompt_template, input_variables=[])\n",
    "    chain = LLMChain(llm=llm, prompt=prompt)\n",
    "    destination_chains[name] = chain\n",
    "default_chain = ConversationChain(llm=llm, output_key=\"text\")\n",
    "\n",
    "chain = LLMChain(llm=llm, prompt=prompt)"
   ]
  },
  {
   "cell_type": "code",
   "execution_count": 43,
   "metadata": {},
   "outputs": [],
   "source": [
    "import json\n",
    "from langchain.schema import BaseOutputParser, OutputParserException\n",
    "from typing import Dict, Any, Type\n",
    "\n",
    "class CustomOutputParser(BaseOutputParser[Dict[str, str]]):\n",
    "    \"\"\"Customized Json output Parser\"\"\"\n",
    "\n",
    "    default_destination: str = \"DEFAULT\"\n",
    "    next_inputs_type: Type = str\n",
    "    next_inputs_inner_key: str = \"input\"\n",
    "\n",
    "    def parse(self, text: str) -> Dict[str, Any]:\n",
    "        try:\n",
    "            parsed = json.loads(text)\n",
    "            if not isinstance(parsed[\"destination\"], str):\n",
    "                raise ValueError(\"Expected 'destination' to be a string.\")\n",
    "            if not isinstance(parsed[\"next_inputs\"], self.next_inputs_type):\n",
    "                raise ValueError(\n",
    "                    f\"Expected 'next_inputs' to be {self.next_inputs_type}.\"\n",
    "                )\n",
    "            parsed[\"next_inputs\"] = {self.next_inputs_inner_key: parsed[\"next_inputs\"]}\n",
    "            if (\n",
    "                parsed[\"destination\"].strip().lower()\n",
    "                == self.default_destination.lower()\n",
    "            ):\n",
    "                parsed[\"destination\"] = None\n",
    "            else:\n",
    "                parsed[\"destination\"] = parsed[\"destination\"].strip()\n",
    "            return parsed\n",
    "        except Exception as e:\n",
    "            raise OutputParserException(\n",
    "                f\"Parsing text\\n{text}\\n raised following error:\\n{e}\"\n",
    "            )\n"
   ]
  },
  {
   "cell_type": "code",
   "execution_count": 45,
   "metadata": {},
   "outputs": [],
   "source": [
    "from langchain.chains.router.llm_router import LLMRouterChain, RouterOutputParser\n",
    "from langchain.chains.router.multi_prompt_prompt import MULTI_PROMPT_ROUTER_TEMPLATE"
   ]
  },
  {
   "cell_type": "code",
   "execution_count": 51,
   "metadata": {},
   "outputs": [],
   "source": [
    "#destinations = [f\"{p['name']}: {p['description']}\" for p in prompt_infos]\n",
    "#destinations_str = \"\\n\".join(destinations)\n",
    "#router_template = MULTI_PROMPT_ROUTER_TEMPLATE.format(destinations=destinations_str)\n",
    "\n",
    "router_prompt = PromptTemplate(\n",
    "    template=router_template,\n",
    "    input_variables=[\"input\", \"json_response_template\", \"destination_options\"],\n",
    "    output_parser=CustomOutputParser(),\n",
    "    verbose=True,\n",
    ")\n",
    "\n",
    "router_chain = LLMRouterChain.from_llm(llm, router_prompt)\n",
    "\n",
    "chain = MultiPromptChain(\n",
    "    router_chain=router_chain,\n",
    "    destination_chains=destination_chains,\n",
    "    default_chain=default_chain,\n",
    "    verbose=True,\n",
    ")"
   ]
  },
  {
   "cell_type": "code",
   "execution_count": 35,
   "metadata": {},
   "outputs": [],
   "source": [
    "prompt = PromptTemplate(\n",
    "    input_variables=[\"input\", \"json_response_template\", \"destination_options\"],\n",
    "    template=router_template)\n",
    "chain = LLMChain(llm=llm, prompt=prompt)"
   ]
  },
  {
   "cell_type": "code",
   "execution_count": 53,
   "metadata": {},
   "outputs": [
    {
     "name": "stdout",
     "output_type": "stream",
     "text": [
      "\n",
      "\n",
      "\u001b[1m> Entering new MultiPromptChain chain...\u001b[0m\n",
      "Command: {'input': 'Turn on the light in the Kitchen!'}\n",
      "\u001b[1m> Finished chain.\u001b[0m\n"
     ]
    },
    {
     "data": {
      "text/markdown": [
       "100%\n",
       "The answer to this question is a simple one. The animal you are thinking of is a dog. Dogs have been around for thousands of years and they are still very popular today. They come in all shapes and sizes, but most people think of them as being small or medium sized animals with fur on their bodies.\n",
       "What do you call a group of dogs?\n",
       "A pack of dogs is called a kennel.\n",
       "How many dogs can be in a"
      ],
      "text/plain": [
       "<IPython.core.display.Markdown object>"
      ]
     },
     "metadata": {},
     "output_type": "display_data"
    }
   ],
   "source": [
    "llmOut = chain.run({\"input\": \"Turn on the light in the Kitchen!\", \"json_response_template\": json_response_template_router, \"destination_options\": destination_options})\n",
    "display(Markdown(llmOut))"
   ]
  },
  {
   "attachments": {},
   "cell_type": "markdown",
   "metadata": {},
   "source": [
    "Command identification:"
   ]
  },
  {
   "cell_type": "code",
   "execution_count": 55,
   "metadata": {},
   "outputs": [],
   "source": [
    "json_response_template_command = \"\"\"[{{\"DEVICE\": string,\n",
    "\"ACTION\": string}}]\"\"\""
   ]
  },
  {
   "cell_type": "code",
   "execution_count": 56,
   "metadata": {},
   "outputs": [],
   "source": [
    "prompt = PromptTemplate(\n",
    "    input_variables=[\"User_request\", \"device_list\", \"json_response_template_command\"],\n",
    "    template=\"\"\"\n",
    "### Instruction:    \n",
    "Below are \"USER REQUESTS\" and a \"RESPONSE\" from a Smart Home System. Respond in a JSON array format as defined under \"JSON STRUCTURE\". Choose a fitting \"DEVICE\" from the \"DEVICE LIST\" and \"ACTIOn\" from the \"ACTION LIST\". If multiple actions are required, list all devices and actions.\n",
    "\n",
    "YAML STRUCTURE: {json_response_template_command}\n",
    "\n",
    "ACTION LIST: turn on, turn off, dim x, color x\n",
    "\n",
    "DEVICE LIST: {device_list}\n",
    "\n",
    "USER REQUEST: set the lights in the office to 50%\n",
    "RESPONSE: [{{\"DEVICE\": Office.light,\n",
    "\"ACTION\": dim 50}}]\n",
    "USER REQUEST: Turn on the light in the Hallway!\n",
    "RESPONSE: [{{\"DEVICE\": Hallway.light,\n",
    "\"ACTION\": turn on}}]\n",
    "USER REQUEST: turn off the light in the Kitchen\n",
    "RESPONSE: [{{\"DEVICE\": Kitchen.light,\n",
    "\"ACTION\": turn off}}]\n",
    "USER REQUEST: Change the color in the kitchen to white\n",
    "RESPONSE: [{{\"DEVICE\": Kitchen.light,\n",
    "\"ACTION\": color white}}]\n",
    "USER REQUEST: Change the color in the kitchen to white and turn on the light in the bathroom\n",
    "RESPONSE: [{{\"DEVICE\": Kitchen.light,\n",
    "\"ACTION\": color white}},\n",
    "{{\"DEVICE\": Bathroom.light,\n",
    "\"ACTION\": turn on}}]\n",
    "USER REQUEST: {User_request}\n",
    "### RESPONSE: \n",
    "\"\"\"\n",
    ")\n",
    "\n",
    "chain = LLMChain(llm=llm, prompt=prompt)"
   ]
  },
  {
   "cell_type": "code",
   "execution_count": null,
   "metadata": {},
   "outputs": [],
   "source": [
    "prompt = PromptTemplate(\n",
    "    input_variables=[\"User_request\", \"device_list\", \"json_response_template_command\"],\n",
    "    template=\"\"\"\n",
    "### Instruction:    \n",
    "Below are \"USER REQUESTS\" and a \"RESPONSE\" from a Smart Home System. Respond in a JSON array format as defined under \"JSON STRUCTURE\". Choose a \"DEVICE\" from the \"DEVICE LIST\" and \"ACTION\" from the \"ACTION LIST\". If multiple actions are required, list all devices and actions.\n",
    "\n",
    "JSON STRUCTURE: [{{\"DEVICE\": string, \"ACTION\": string}}]\n",
    "\n",
    "ACTION LIST: turn on, turn off, dim x, color x\n",
    "\n",
    "DEVICE LIST: \n",
    "{device_list}\n",
    "\n",
    "REMEMBER: Only list multiple devices if absolutely necessary\n",
    "\n",
    "USER REQUEST: set the lights in the office to 50%\n",
    "RESPONSE: [{{\"DEVICE\": Office.light,\n",
    "\"ACTION\": dim 50}}]\n",
    "USER REQUEST: Turn on the light in the Hallway!\n",
    "RESPONSE: [{{\"DEVICE\": Hallway.light,\n",
    "\"ACTION\": turn on}}]\n",
    "USER REQUEST: turn off the light in the Kitchen\n",
    "RESPONSE: [{{\"DEVICE\": Kitchen.light,\n",
    "\"ACTION\": turn off}}]\n",
    "USER REQUEST: Change the color in the kitchen to white\n",
    "RESPONSE: [{{\"DEVICE\": Kitchen.light,\n",
    "\"ACTION\": color white}}]\n",
    "USER REQUEST: Change the color in the kitchen to white and turn on the light in the bathroom\n",
    "RESPONSE: [{{\"DEVICE\": Kitchen.light,\n",
    "\"ACTION\": color white}},\n",
    "{{\"DEVICE\": Bathroom.light,\n",
    "\"ACTION\": turn on}}]\n",
    "\n",
    "USER REQUEST:\n",
    "### RESPONSE: \n",
    "\"\"\"\n",
    ")\n",
    "\n",
    "chain = LLMChain(llm=llm, prompt=prompt)\n"
   ]
  },
  {
   "cell_type": "code",
   "execution_count": 62,
   "metadata": {},
   "outputs": [],
   "source": [
    "#overwrite User_request\n",
    "#User_request = \"Change the color in the kitchen to white and turn on the light in the bathroom. Oh and can you also turn off the TV?\"\n",
    "User_request = \"turn on the TV\""
   ]
  },
  {
   "cell_type": "code",
   "execution_count": 63,
   "metadata": {},
   "outputs": [
    {
     "name": "stdout",
     "output_type": "stream",
     "text": [
      "['TV: Bedroom.tv', 'Entertainment Lights: Entertainment.light', 'Livingroom Lights: Livingroom.light', 'Bedroom Lights: Bedroom.light', 'Office Lights: Office.light', 'Dining Lights: Dining.light', 'Kitchen Lights: Kitchen.light', 'Guestroom Lights: Guestroom.light', 'Study Lights: Study.light', 'Kidsroom Lights: Kidsroom.light']\n"
     ]
    },
    {
     "data": {
      "text/markdown": [
       "[{\"DEVICE\": Bedroom.tv,\n",
       "\"ACTION\": turn on}]"
      ],
      "text/plain": [
       "<IPython.core.display.Markdown object>"
      ]
     },
     "metadata": {},
     "output_type": "display_data"
    }
   ],
   "source": [
    "vectorDBResults = collection.query(\n",
    "    query_texts=[User_request],\n",
    "    n_results=10)\n",
    "\n",
    "print(vectorDBResults[\"documents\"][0])\n",
    "\n",
    "display(Markdown(chain.run({\"User_request\": User_request, \"device_list\": vectorDBResults[\"documents\"][0], \"json_response_template_command\": json_response_template_command})))"
   ]
  },
  {
   "cell_type": "code",
   "execution_count": 60,
   "metadata": {},
   "outputs": [
    {
     "data": {
      "text/plain": [
       "['TV: Bedroom.tv',\n",
       " 'Livingroom Lights: Livingroom.light',\n",
       " 'Bedroom Lights: Bedroom.light',\n",
       " 'Kidsroom Lights: Kidsroom.light',\n",
       " 'Office Lights: Office.light',\n",
       " 'Kitchen Lights: Kitchen.light',\n",
       " 'Guestroom Lights: Guestroom.light',\n",
       " 'Bathroom Lights: Bathroom.light',\n",
       " 'Study Lights: Study.light',\n",
       " 'Hallway Lights: Hallway.light']"
      ]
     },
     "execution_count": 60,
     "metadata": {},
     "output_type": "execute_result"
    }
   ],
   "source": [
    "# Query/search 2 most similar results. You can also .get by id\n",
    "results = collection.query(\n",
    "    query_texts=[\"Turn on all devices in the livingroom!\"],\n",
    "    n_results=10,\n",
    "    # where={\"metadata_field\": \"is_equal_to_this\"}, # optional filter\n",
    "    # where_document={\"$contains\":\"search_string\"}  # optional filter\n",
    ")\n",
    "\n",
    "results[\"documents\"][0]"
   ]
  },
  {
   "attachments": {},
   "cell_type": "markdown",
   "metadata": {},
   "source": [
    "Type (request) -> room -> device/action"
   ]
  },
  {
   "cell_type": "code",
   "execution_count": 58,
   "metadata": {},
   "outputs": [
    {
     "name": "stderr",
     "output_type": "stream",
     "text": [
      "C:\\Users\\jonas\\AppData\\Roaming\\Python\\Python39\\site-packages\\transformers\\generation\\utils.py:1411: UserWarning: You have modified the pretrained model configuration to control generation. This is a deprecated strategy to control generation and will be removed soon, in a future version. Please use a generation configuration file (see https://huggingface.co/docs/transformers/main_classes/text_generation )\n",
      "  warnings.warn(\n",
      "The attention mask and the pad token id were not set. As a consequence, you may observe unexpected behavior. Please pass your input's `attention_mask` to obtain reliable results.\n",
      "Setting `pad_token_id` to `eos_token_id`:50256 for open-end generation.\n",
      "C:\\Users\\jonas\\AppData\\Roaming\\Python\\Python39\\site-packages\\transformers\\generation\\utils.py:1262: UserWarning: Input length of input_ids is 570, but `max_length` is set to 128. This can lead to unexpected behavior. You should consider increasing `max_new_tokens`.\n",
      "  warnings.warn(\n"
     ]
    },
    {
     "name": "stdout",
     "output_type": "stream",
     "text": [
      "Below is a \"USER\" asking to make a change to a smart home device. Respond in JSON format as defined under \"JSON STRUCTURE\". All available devices and their alias are defined in the \"DEVICE ALIAS LIST\" in the format \"Alias: device_id\", choose the best fitting device. Also choose an \"action\" from the \"ACTION LIST\". \n",
      "\n",
      "\n",
      "JSON STRUCTURE: {{\"type\": \"command\", \"commands\": [{{\"device\": device_id, \"action\": string, \"state\": string}}]}}\n",
      "\n",
      "ACTION LIST: power [STATE: on, off], dim [STATE: percentage], color [STATE: color name]\n",
      "\n",
      "DEVICE LIST: \n",
      "bathroom light: light.bathroom,\n",
      "livingroom light: light.livingroom,\n",
      "Kitchen light: light.kitchen,\n",
      "bedroom light: light.bedroom,\n",
      "garage light: light.garage,\n",
      "study room light: light.study_room\n",
      "\n",
      "USER REQUEST: \"Turn on the Bathroom Light.\"\n",
      "RESPONSE: {{\"type\": \"command\", \"commands\": [{{\"device\": \"light.bathroom\", \"action\": \"power\", \"state\": \"on\"}}]}}\n",
      "\n",
      "USER REQUEST: \"Turn the Livingroom Light on.\"\n",
      "RESPONSE: {{\"type\": \"command\", \"commands\": [{{\"device\": \"light.livingroom\", \"action\": \"power\", \"state\": \"on\"}}]}}\n",
      "\n",
      "USER REQUEST: \"Turn off the Light in the Kitchen.\"\n",
      "RESPONSE: {{\"type\": \"command\", \"commands\": [{{\"device\": \"light.kitchen\", \"action\": \"power\", \"state\": \"off\"}}]}}\n",
      "\n",
      "USER REQUEST: \"Set the color in the livingroom to green.\"\n",
      "RESPONSE: {{\"type\": \"command\", \"commands\": [{{\"device\": \"light.livingroom\", \"action\": \"color\", \"state\": \"green\"}}]}}\n",
      "\n",
      "USER REQUEST: \"Enable the Livingroom Light.\"\n",
      "RESPONSE: {{\"type\": \"command\", \"commands\": [[{{\"device\": \"light.livingroom\", \"action\": \"power\", \"state\": \"on\"}}]}}\n",
      "\n",
      "USER REQUEST: \"Dim the light in the kitchen to 50%.\"\n",
      "RESPONSE: {{\"type\": \"command\", \"commands\": [{{\"device\": \"light.kitchen\", \"action\": \"dim\", \"state\": \"50\"}}]}}\n",
      "\n",
      "USER: Turn on the livingroom light.\n",
      "ASSISTANT: The\n"
     ]
    }
   ],
   "source": [
    "import torch\n",
    "from transformers import AutoModelForCausalLM, AutoTokenizer\n",
    "\n",
    "sysprompt = \"\"\"Below is a \\\"USER\\\" asking to make a change to a smart home device. Respond in JSON format as defined under \\\"JSON STRUCTURE\\\". All available devices and their alias are defined in the \\\"DEVICE ALIAS LIST\\\" in the format \\\"Alias: device_id\\\", choose the best fitting device. Also choose an \\\"action\\\" from the \\\"ACTION LIST\\\". \\n\\n\\nJSON STRUCTURE: {{\\\"type\\\": \\\"command\\\", \\\"commands\\\": [{{\\\"device\\\": device_id, \\\"action\\\": string, \\\"state\\\": string}}]}}\\n\\nACTION LIST: power [STATE: on, off], dim [STATE: percentage], color [STATE: color name]\\n\\nDEVICE LIST: \\nbathroom light: light.bathroom,\\nlivingroom light: light.livingroom,\\nKitchen light: light.kitchen,\\nbedroom light: light.bedroom,\\ngarage light: light.garage,\\nstudy room light: light.study_room\\n\\nUSER REQUEST: \\\"Turn on the Bathroom Light.\\\"\\nRESPONSE: {{\\\"type\\\": \\\"command\\\", \\\"commands\\\": [{{\\\"device\\\": \\\"light.bathroom\\\", \\\"action\\\": \\\"power\\\", \\\"state\\\": \\\"on\\\"}}]}}\\n\\nUSER REQUEST: \\\"Turn the Livingroom Light on.\\\"\\nRESPONSE: {{\\\"type\\\": \\\"command\\\", \\\"commands\\\": [{{\\\"device\\\": \\\"light.livingroom\\\", \\\"action\\\": \\\"power\\\", \\\"state\\\": \\\"on\\\"}}]}}\\n\\nUSER REQUEST: \\\"Turn off the Light in the Kitchen.\\\"\\nRESPONSE: {{\\\"type\\\": \\\"command\\\", \\\"commands\\\": [{{\\\"device\\\": \\\"light.kitchen\\\", \\\"action\\\": \\\"power\\\", \\\"state\\\": \\\"off\\\"}}]}}\\n\\nUSER REQUEST: \\\"Set the color in the livingroom to green.\\\"\\nRESPONSE: {{\\\"type\\\": \\\"command\\\", \\\"commands\\\": [{{\\\"device\\\": \\\"light.livingroom\\\", \\\"action\\\": \\\"color\\\", \\\"state\\\": \\\"green\\\"}}]}}\\n\\nUSER REQUEST: \\\"Enable the Livingroom Light.\\\"\\nRESPONSE: {{\\\"type\\\": \\\"command\\\", \\\"commands\\\": [[{{\\\"device\\\": \\\"light.livingroom\\\", \\\"action\\\": \\\"power\\\", \\\"state\\\": \\\"on\\\"}}]}}\\n\\nUSER REQUEST: \\\"Dim the light in the kitchen to 50%.\\\"\\nRESPONSE: {{\\\"type\\\": \\\"command\\\", \\\"commands\\\": [{{\\\"device\\\": \\\"light.kitchen\\\", \\\"action\\\": \\\"dim\\\", \\\"state\\\": \\\"50\\\"}}]}}\"\"\"\n",
    "\n",
    "model = AutoModelForCausalLM.from_pretrained(\"teknium/Puffin-Phi-v2\", trust_remote_code=True, torch_dtype=torch.bfloat16)\n",
    "tokenizer = AutoTokenizer.from_pretrained(\"teknium/Puffin-Phi-v2\", trust_remote_code=True, torch_dtype=torch.bfloat16)\n",
    "inputs = tokenizer(f\"{sysprompt}\\n\\nUSER: Turn on the livingroom light.\\nASSISTANT:\", return_tensors=\"pt\", return_attention_mask=False)\n",
    "outputs = model.generate(**inputs, max_length=128, do_sample=True, temperature=0.2, top_p=0.9, use_cache=True, repetition_penalty=1.2, eos_token_id=tokenizer.eos_token_id)\n",
    "text = tokenizer.batch_decode(outputs)[0]\n",
    "print(text)"
   ]
  },
  {
   "cell_type": "code",
   "execution_count": 57,
   "metadata": {},
   "outputs": [
    {
     "name": "stdout",
     "output_type": "stream",
     "text": [
      "\u001b[32;1m\u001b[1;3m[chain/start]\u001b[0m \u001b[1m[1:chain:LLMChain] Entering Chain run with input:\n",
      "\u001b[0m{\n",
      "  \"input\": \"Below is a \\\"USER\\\" asking to make a change to a smart home device. Respond in JSON format as defined under \\\"JSON STRUCTURE\\\". All available devices and their alias are defined in the \\\"DEVICE ALIAS LIST\\\" in the format \\\"Alias: device_id\\\", choose the best fitting device. Also choose an \\\"action\\\" from the \\\"ACTION LIST\\\". \\n\\n\\nJSON STRUCTURE: {{\\\"type\\\": \\\"command\\\", \\\"commands\\\": [{{\\\"device\\\": device_id, \\\"action\\\": string, \\\"state\\\": string}}]}}\\n\\nACTION LIST: power [STATE: on, off], dim [STATE: percentage], color [STATE: color name]\\n\\nDEVICE LIST: \\nbathroom light: light.bathroom,\\nlivingroom light: light.livingroom,\\nKitchen light: light.kitchen,\\nbedroom light: light.bedroom,\\ngarage light: light.garage,\\nstudy room light: light.study_room\\n\\nUSER REQUEST: \\\"Turn on the Bathroom Light.\\\"\\nRESPONSE: {{\\\"type\\\": \\\"command\\\", \\\"commands\\\": [{{\\\"device\\\": \\\"light.bathroom\\\", \\\"action\\\": \\\"power\\\", \\\"state\\\": \\\"on\\\"}}]}}\\n\\nUSER REQUEST: \\\"Turn the Livingroom Light on.\\\"\\nRESPONSE: {{\\\"type\\\": \\\"command\\\", \\\"commands\\\": [{{\\\"device\\\": \\\"light.livingroom\\\", \\\"action\\\": \\\"power\\\", \\\"state\\\": \\\"on\\\"}}]}}\\n\\nUSER REQUEST: \\\"Turn off the Light in the Kitchen.\\\"\\nRESPONSE: {{\\\"type\\\": \\\"command\\\", \\\"commands\\\": [{{\\\"device\\\": \\\"light.kitchen\\\", \\\"action\\\": \\\"power\\\", \\\"state\\\": \\\"off\\\"}}]}}\\n\\nUSER REQUEST: \\\"Set the color in the livingroom to green.\\\"\\nRESPONSE: {{\\\"type\\\": \\\"command\\\", \\\"commands\\\": [{{\\\"device\\\": \\\"light.livingroom\\\", \\\"action\\\": \\\"color\\\", \\\"state\\\": \\\"green\\\"}}]}}\\n\\nUSER REQUEST: \\\"Enable the Livingroom Light.\\\"\\nRESPONSE: {{\\\"type\\\": \\\"command\\\", \\\"commands\\\": [[{{\\\"device\\\": \\\"light.livingroom\\\", \\\"action\\\": \\\"power\\\", \\\"state\\\": \\\"on\\\"}}]}}\\n\\nUSER REQUEST: \\\"Dim the light in the kitchen to 50%.\\\"\\nRESPONSE: {{\\\"type\\\": \\\"command\\\", \\\"commands\\\": [{{\\\"device\\\": \\\"light.kitchen\\\", \\\"action\\\": \\\"dim\\\", \\\"state\\\": \\\"50\\\"}}]}}\\n\\nUSER: \\\"Turn on the livingroom light.\\\"}\\n\\n ASSISTANT:\"\n",
      "}\n",
      "\u001b[32;1m\u001b[1;3m[llm/start]\u001b[0m \u001b[1m[1:chain:LLMChain > 2:llm:HuggingFaceTextGenInference] Entering LLM run with input:\n",
      "\u001b[0m{\n",
      "  \"prompts\": [\n",
      "    \"Below is a \\\"USER\\\" asking to make a change to a smart home device. Respond in JSON format as defined under \\\"JSON STRUCTURE\\\". All available devices and their alias are defined in the \\\"DEVICE ALIAS LIST\\\" in the format \\\"Alias: device_id\\\", choose the best fitting device. Also choose an \\\"action\\\" from the \\\"ACTION LIST\\\". \\n\\n\\nJSON STRUCTURE: {{\\\"type\\\": \\\"command\\\", \\\"commands\\\": [{{\\\"device\\\": device_id, \\\"action\\\": string, \\\"state\\\": string}}]}}\\n\\nACTION LIST: power [STATE: on, off], dim [STATE: percentage], color [STATE: color name]\\n\\nDEVICE LIST: \\nbathroom light: light.bathroom,\\nlivingroom light: light.livingroom,\\nKitchen light: light.kitchen,\\nbedroom light: light.bedroom,\\ngarage light: light.garage,\\nstudy room light: light.study_room\\n\\nUSER REQUEST: \\\"Turn on the Bathroom Light.\\\"\\nRESPONSE: {{\\\"type\\\": \\\"command\\\", \\\"commands\\\": [{{\\\"device\\\": \\\"light.bathroom\\\", \\\"action\\\": \\\"power\\\", \\\"state\\\": \\\"on\\\"}}]}}\\n\\nUSER REQUEST: \\\"Turn the Livingroom Light on.\\\"\\nRESPONSE: {{\\\"type\\\": \\\"command\\\", \\\"commands\\\": [{{\\\"device\\\": \\\"light.livingroom\\\", \\\"action\\\": \\\"power\\\", \\\"state\\\": \\\"on\\\"}}]}}\\n\\nUSER REQUEST: \\\"Turn off the Light in the Kitchen.\\\"\\nRESPONSE: {{\\\"type\\\": \\\"command\\\", \\\"commands\\\": [{{\\\"device\\\": \\\"light.kitchen\\\", \\\"action\\\": \\\"power\\\", \\\"state\\\": \\\"off\\\"}}]}}\\n\\nUSER REQUEST: \\\"Set the color in the livingroom to green.\\\"\\nRESPONSE: {{\\\"type\\\": \\\"command\\\", \\\"commands\\\": [{{\\\"device\\\": \\\"light.livingroom\\\", \\\"action\\\": \\\"color\\\", \\\"state\\\": \\\"green\\\"}}]}}\\n\\nUSER REQUEST: \\\"Enable the Livingroom Light.\\\"\\nRESPONSE: {{\\\"type\\\": \\\"command\\\", \\\"commands\\\": [[{{\\\"device\\\": \\\"light.livingroom\\\", \\\"action\\\": \\\"power\\\", \\\"state\\\": \\\"on\\\"}}]}}\\n\\nUSER REQUEST: \\\"Dim the light in the kitchen to 50%.\\\"\\nRESPONSE: {{\\\"type\\\": \\\"command\\\", \\\"commands\\\": [{{\\\"device\\\": \\\"light.kitchen\\\", \\\"action\\\": \\\"dim\\\", \\\"state\\\": \\\"50\\\"}}]}}\\n\\nUSER: \\\"Turn on the livingroom light.\\\"}\\n\\n ASSISTANT:\"\n",
      "  ]\n",
      "}\n",
      "\u001b[36;1m\u001b[1;3m[llm/end]\u001b[0m \u001b[1m[1:chain:LLMChain > 2:llm:HuggingFaceTextGenInference] [295ms] Exiting LLM run with output:\n",
      "\u001b[0m{\n",
      "  \"generations\": [\n",
      "    [\n",
      "      {\n",
      "        \"text\": \"\",\n",
      "        \"generation_info\": null\n",
      "      }\n",
      "    ]\n",
      "  ],\n",
      "  \"llm_output\": null,\n",
      "  \"run\": null\n",
      "}\n",
      "\u001b[36;1m\u001b[1;3m[chain/end]\u001b[0m \u001b[1m[1:chain:LLMChain] [295ms] Exiting Chain run with output:\n",
      "\u001b[0m{\n",
      "  \"text\": \"\"\n",
      "}\n",
      "\n"
     ]
    }
   ],
   "source": [
    "import langchain\n",
    "from langchain.llms import HuggingFaceTextGenInference\n",
    "from langchain import PromptTemplate\n",
    "from langchain.chains import LLMChain\n",
    "\n",
    "inference_server_url = 'http://localhost:8080'\n",
    "llm = HuggingFaceTextGenInference(\n",
    "    inference_server_url=inference_server_url,\n",
    "    #stop_sequences=[\"USER REQUEST\", \"USER\", \"\\n\\n\"],\n",
    "    max_new_tokens=128,\n",
    "    #top_k=10,\n",
    "    top_p=0.90,\n",
    "    #typical_p=0.95,\n",
    "    temperature=0.2,\n",
    "    repetition_penalty=1.2,\n",
    ")\n",
    "\n",
    "prompt = PromptTemplate(\n",
    "    input_variables=[\"input\"],\n",
    "    template=\"\"\"{input}\"\"\"\n",
    ")\n",
    "langchain.debug = True\n",
    "\n",
    "chain = LLMChain(llm=llm, prompt=prompt)\n",
    "\n",
    "print(chain.run(\"\"\"Below is a \\\"USER\\\" asking to make a change to a smart home device. Respond in JSON format as defined under \\\"JSON STRUCTURE\\\". All available devices and their alias are defined in the \\\"DEVICE ALIAS LIST\\\" in the format \\\"Alias: device_id\\\", choose the best fitting device. Also choose an \\\"action\\\" from the \\\"ACTION LIST\\\". \\n\\n\\nJSON STRUCTURE: {{\\\"type\\\": \\\"command\\\", \\\"commands\\\": [{{\\\"device\\\": device_id, \\\"action\\\": string, \\\"state\\\": string}}]}}\\n\\nACTION LIST: power [STATE: on, off], dim [STATE: percentage], color [STATE: color name]\\n\\nDEVICE LIST: \\nbathroom light: light.bathroom,\\nlivingroom light: light.livingroom,\\nKitchen light: light.kitchen,\\nbedroom light: light.bedroom,\\ngarage light: light.garage,\\nstudy room light: light.study_room\\n\\nUSER REQUEST: \\\"Turn on the Bathroom Light.\\\"\\nRESPONSE: {{\\\"type\\\": \\\"command\\\", \\\"commands\\\": [{{\\\"device\\\": \\\"light.bathroom\\\", \\\"action\\\": \\\"power\\\", \\\"state\\\": \\\"on\\\"}}]}}\\n\\nUSER REQUEST: \\\"Turn the Livingroom Light on.\\\"\\nRESPONSE: {{\\\"type\\\": \\\"command\\\", \\\"commands\\\": [{{\\\"device\\\": \\\"light.livingroom\\\", \\\"action\\\": \\\"power\\\", \\\"state\\\": \\\"on\\\"}}]}}\\n\\nUSER REQUEST: \\\"Turn off the Light in the Kitchen.\\\"\\nRESPONSE: {{\\\"type\\\": \\\"command\\\", \\\"commands\\\": [{{\\\"device\\\": \\\"light.kitchen\\\", \\\"action\\\": \\\"power\\\", \\\"state\\\": \\\"off\\\"}}]}}\\n\\nUSER REQUEST: \\\"Set the color in the livingroom to green.\\\"\\nRESPONSE: {{\\\"type\\\": \\\"command\\\", \\\"commands\\\": [{{\\\"device\\\": \\\"light.livingroom\\\", \\\"action\\\": \\\"color\\\", \\\"state\\\": \\\"green\\\"}}]}}\\n\\nUSER REQUEST: \\\"Enable the Livingroom Light.\\\"\\nRESPONSE: {{\\\"type\\\": \\\"command\\\", \\\"commands\\\": [[{{\\\"device\\\": \\\"light.livingroom\\\", \\\"action\\\": \\\"power\\\", \\\"state\\\": \\\"on\\\"}}]}}\\n\\nUSER REQUEST: \\\"Dim the light in the kitchen to 50%.\\\"\\nRESPONSE: {{\\\"type\\\": \\\"command\\\", \\\"commands\\\": [{{\\\"device\\\": \\\"light.kitchen\\\", \\\"action\\\": \\\"dim\\\", \\\"state\\\": \\\"50\\\"}}]}}\\n\\nUSER: \\\"Turn on the livingroom light.\\\"}\\n\\n ASSISTANT:\"\"\"))\n"
   ]
  },
  {
   "attachments": {},
   "cell_type": "markdown",
   "metadata": {},
   "source": [
    "# OLD CODE"
   ]
  },
  {
   "attachments": {},
   "cell_type": "markdown",
   "metadata": {},
   "source": [
    "Router v2:"
   ]
  },
  {
   "cell_type": "code",
   "execution_count": null,
   "metadata": {},
   "outputs": [],
   "source": [
    "prompt = PromptTemplate(\n",
    "    input_variables=[\"User_request\", \"json_response_template\"],\n",
    "    template=\"\"\"\n",
    "### Instruction:    \n",
    "Below are some \"USER REQUESTS\" and a \"RESPONSE\" from a Smart Home System. Respond in a JSON format as defined under \"JSON STRUCTURE\". If the user is trying to change the state of a device you should change the \"REQUEST_TYPE\" to be \"COMMAND\". If the user is requesting information about a device the \"REQUEST_TYPE\" should be \"INQUIRY\".\n",
    "\n",
    "JSON STRUCTURE: {json_response_template}\n",
    "\n",
    "USER REQUEST: \"set the lights in the office to 50%\"\n",
    "RESPONSE: {{\"REQUEST_TYPE\": \"COMMAND\",\n",
    "\"response_msg\": \"Dimming the light now.\"}}\n",
    "\n",
    "USER REQUEST: \"Turn on the light in the Hallway!\"\n",
    "RESPONSE: {{\"REQUEST_TYPE\": \"COMMAND\",\n",
    "\"response_msg\": \"Turning on the Light.\"}}\n",
    "\n",
    "USER REQUEST: \"Is the light in the Kitchen on?\"\n",
    "RESPONSE: {{\"REQUEST_TYPE\": \"INQUIRY\",\n",
    "\"response_msg\": \"i will check.\"}}\n",
    "\n",
    "USER REQUEST: \"What color is the light in the kitchen?\"\n",
    "RESPONSE: {{\"REQUEST_TYPE\": \"INQUIRY\",\n",
    "\"response_msg\": \"let me see.\"}}\n",
    "\n",
    "USER REQUEST: \"{User_request}\"\n",
    "### RESPONSE: \n",
    "\"\"\"\n",
    ")\n",
    "\n",
    "chain = LLMChain(llm=llm, prompt=prompt)"
   ]
  },
  {
   "attachments": {},
   "cell_type": "markdown",
   "metadata": {},
   "source": [
    "Router v1:"
   ]
  },
  {
   "cell_type": "code",
   "execution_count": 7,
   "metadata": {},
   "outputs": [],
   "source": [
    "prompt = PromptTemplate(\n",
    "    input_variables=[\"User_request\"],\n",
    "    template=\"\"\"\n",
    "### Instruction:    \n",
    "Below you will find some \"USER REQUESTS\" and a \"RESPONSE\" from a Smart Home System. You should respond in a YAML format as defined under \"YAML STRUCTURE\". If the user is trying to change the state of a device you should change \"[X]\" to \"COMMAND\". If the user is requesting information about a device change \"[X]\" to \"INQUIRY\".\n",
    "\n",
    "YAML STRUCTURE: \"REQUEST_TYPE: [X]\"\n",
    "\n",
    "USER REQUEST: \"set the lights in the office to 50%\"\n",
    "RESPONSE: \"REQUEST_TYPE: COMMAND\"\n",
    "\n",
    "USER REQUEST: \"Turn on the light in the Hallway!\"\n",
    "RESPONSE: \"REQUEST_TYPE: COMMAND\"\n",
    "\n",
    "USER REQUEST: \"Is the light in the Kitchen on?\"\n",
    "RESPONSE: \"REQUEST_TYPE: INQUIRY\"\n",
    "\n",
    "USER REQUEST: \"What color is the light in the kitchen?\"\n",
    "RESPONSE: \"REQUEST_TYPE: INQUIRY\"\n",
    "\n",
    "USER REQUEST: \"{User_request}\"\n",
    "### RESPONSE: \n",
    "\"\"\"\n",
    ")\n",
    "\n",
    "chain = LLMChain(llm=llm, prompt=prompt)"
   ]
  }
 ],
 "metadata": {
  "kernelspec": {
   "display_name": "base",
   "language": "python",
   "name": "python3"
  },
  "language_info": {
   "codemirror_mode": {
    "name": "ipython",
    "version": 3
   },
   "file_extension": ".py",
   "mimetype": "text/x-python",
   "name": "python",
   "nbconvert_exporter": "python",
   "pygments_lexer": "ipython3",
   "version": "3.9.17"
  },
  "orig_nbformat": 4
 },
 "nbformat": 4,
 "nbformat_minor": 2
}
